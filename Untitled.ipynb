{
 "cells": [
  {
   "cell_type": "code",
   "execution_count": 6,
   "id": "961f7c0b-ea22-4daa-9f3d-ed09ad4396f5",
   "metadata": {},
   "outputs": [
    {
     "name": "stdout",
     "output_type": "stream",
     "text": [
      "\u001b[0m\u001b[01;34mjupyter-config\u001b[0m/                 Makefile        README.md  tsconfig.json\n",
      "\u001b[01;34mjupyterlab_extension\u001b[0m/           MANIFEST.in     setup.py   tsconfig.tsbuildinfo\n",
      "\u001b[01;34mjupyterlab_extension.egg-info\u001b[0m/  \u001b[01;34mnode_modules\u001b[0m/   \u001b[01;34msrc\u001b[0m/       Untitled.ipynb\n",
      "\u001b[01;34mlib\u001b[0m/                            package.json    \u001b[01;34mstyle\u001b[0m/     yarn.lock\n",
      "LICENSE                         pyproject.toml  tox.ini\n"
     ]
    }
   ],
   "source": [
    "ls"
   ]
  }
 ],
 "metadata": {
  "kernelspec": {
   "display_name": "Python 3",
   "language": "python",
   "name": "python3"
  },
  "language_info": {
   "codemirror_mode": {
    "name": "ipython",
    "version": 3
   },
   "file_extension": ".py",
   "mimetype": "text/x-python",
   "name": "python",
   "nbconvert_exporter": "python",
   "pygments_lexer": "ipython3",
   "version": "3.6.9"
  }
 },
 "nbformat": 4,
 "nbformat_minor": 5
}
