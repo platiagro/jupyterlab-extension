{
 "cells": [
  {
   "cell_type": "code",
   "execution_count": 2,
   "id": "3f18ca77-ec1a-4ec4-bc5f-0abe3dbe5adf",
   "metadata": {},
   "outputs": [
    {
     "name": "stdout",
     "output_type": "stream",
     "text": [
      "\u001b[0m\u001b[01;34mjupyter-config\u001b[0m/                 Makefile        README.md  tsconfig.json\n",
      "\u001b[01;34mjupyterlab_extension\u001b[0m/           MANIFEST.in     setup.py   tsconfig.tsbuildinfo\n",
      "\u001b[01;34mjupyterlab_extension.egg-info\u001b[0m/  \u001b[01;34mnode_modules\u001b[0m/   \u001b[01;34msrc\u001b[0m/       Untitled.ipynb\n",
      "\u001b[01;34mlib\u001b[0m/                            package.json    \u001b[01;34mstyle\u001b[0m/     yarn.lock\n",
      "LICENSE                         pyproject.toml  tox.ini\n"
     ]
    }
   ],
   "source": [
    "ls"
   ]
  },
  {
   "cell_type": "code",
   "execution_count": null,
   "id": "55a2e80c-46de-4234-b5b3-8303091cbaa6",
   "metadata": {},
   "outputs": [],
   "source": []
  }
 ],
 "metadata": {
  "kernelspec": {
   "display_name": "Python 3",
   "language": "python",
   "name": "python3"
  },
  "language_info": {
   "codemirror_mode": {
    "name": "ipython",
    "version": 3
   },
   "file_extension": ".py",
   "mimetype": "text/x-python",
   "name": "python",
   "nbconvert_exporter": "python",
   "pygments_lexer": "ipython3",
   "version": "3.6.9"
  }
 },
 "nbformat": 4,
 "nbformat_minor": 5
}
